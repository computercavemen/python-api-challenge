{
 "cells": [
  {
   "cell_type": "markdown",
   "metadata": {},
   "source": [
    "# WeatherPy\n",
    "----\n",
    "\n",
    "#### Note\n",
    "* Instructions have been included for each segment. You do not have to follow them exactly, but they are included to help you think through the steps."
   ]
  },
  {
   "cell_type": "code",
   "execution_count": 31,
   "metadata": {
    "scrolled": true
   },
   "outputs": [],
   "source": [
    "# Dependencies and Setup\n",
    "import matplotlib.pyplot as plt\n",
    "import pandas as pd\n",
    "import numpy as np\n",
    "import scipy.stats as st\n",
    "import requests\n",
    "import time\n",
    "from scipy.stats import linregress\n",
    "\n",
    "# Import API key\n",
    "from api_keys import weather_api_key\n",
    "\n",
    "# Incorporated citipy to determine city based on latitude and longitude\n",
    "from citipy import citipy\n",
    "\n",
    "# Output File (CSV)\n",
    "output_data_file = \"output_data/cities.csv\"\n",
    "\n",
    "# Range of latitudes and longitudes\n",
    "lat_range = (-90, 90)\n",
    "lng_range = (-180, 180)"
   ]
  },
  {
   "cell_type": "markdown",
   "metadata": {},
   "source": [
    "## Generate Cities List"
   ]
  },
  {
   "cell_type": "code",
   "execution_count": 2,
   "metadata": {},
   "outputs": [
    {
     "data": {
      "text/plain": [
       "612"
      ]
     },
     "execution_count": 2,
     "metadata": {},
     "output_type": "execute_result"
    }
   ],
   "source": [
    "# List for holding lat_lngs and cities\n",
    "lat_lngs = []\n",
    "cities = []\n",
    "\n",
    "# Create a set of random lat and lng combinations\n",
    "lats = np.random.uniform(lat_range[0], lat_range[1], size=1500)\n",
    "lngs = np.random.uniform(lng_range[0], lng_range[1], size=1500)\n",
    "lat_lngs = zip(lats, lngs)\n",
    "\n",
    "# Identify nearest city for each lat, lng combination\n",
    "for lat_lng in lat_lngs:\n",
    "    city = citipy.nearest_city(lat_lng[0], lat_lng[1]).city_name\n",
    "    \n",
    "    # If the city is unique, then add it to a our cities list\n",
    "    if city not in cities:\n",
    "        cities.append(city)\n",
    "\n",
    "# Print the city count to confirm sufficient count\n",
    "len(cities)"
   ]
  },
  {
   "cell_type": "markdown",
   "metadata": {},
   "source": [
    "### Perform API Calls\n",
    "* Perform a weather check on each city using a series of successive API calls.\n",
    "* Include a print log of each city as it'sbeing processed (with the city number and city name).\n"
   ]
  },
  {
   "cell_type": "code",
   "execution_count": 7,
   "metadata": {
    "scrolled": true
   },
   "outputs": [
    {
     "name": "stdout",
     "output_type": "stream",
     "text": [
      "The weather in luanda is 69.8 degrees fahrenheit\n",
      "The weather in punta arenas is 39.31 degrees fahrenheit\n",
      "The weather in rikitea is 71.19 degrees fahrenheit\n",
      "The weather in lagoa is 69.94 degrees fahrenheit\n",
      "The weather in sitka is 57.09 degrees fahrenheit\n",
      "The weather in arraial do cabo is 62.56 degrees fahrenheit\n",
      "The weather in jamestown is 70.32 degrees fahrenheit\n",
      "The weather in mataura is 53.47 degrees fahrenheit\n",
      "The weather in hilo is 77.4 degrees fahrenheit\n",
      "The weather in chuy is 59.4 degrees fahrenheit\n",
      "The weather in khandyga is 63.01 degrees fahrenheit\n",
      "The weather in ushuaia is 37.06 degrees fahrenheit\n",
      "The weather in saskylakh is 54.77 degrees fahrenheit\n",
      "The weather in chokurdakh is 45.46 degrees fahrenheit\n",
      "taolanaro not found. Skipping...\n",
      "The weather in mehamn is 44.64 degrees fahrenheit\n",
      "The weather in riyadh is 89.74 degrees fahrenheit\n",
      "The weather in new norfolk is 46.45 degrees fahrenheit\n",
      "The weather in ilulissat is 42.82 degrees fahrenheit\n",
      "The weather in mar del plata is 51.4 degrees fahrenheit\n",
      "The weather in yellowknife is 73.92 degrees fahrenheit\n",
      "The weather in la ronge is 64.65 degrees fahrenheit\n",
      "The weather in choix is 93.94 degrees fahrenheit\n",
      "The weather in lasa is 63.99 degrees fahrenheit\n",
      "The weather in guerrero negro is 77.13 degrees fahrenheit\n",
      "The weather in tadine is 74.73 degrees fahrenheit\n",
      "The weather in ucluelet is 62.65 degrees fahrenheit\n",
      "The weather in hobart is 49.75 degrees fahrenheit\n",
      "The weather in brigham city is 91.06 degrees fahrenheit\n",
      "The weather in hermanus is 47.8 degrees fahrenheit\n",
      "The weather in anastacio is 75.7 degrees fahrenheit\n",
      "The weather in nanortalik is 42.49 degrees fahrenheit\n",
      "The weather in kapaa is 78.69 degrees fahrenheit\n",
      "The weather in bluff is 54.81 degrees fahrenheit\n",
      "The weather in bambanglipuro is 77.11 degrees fahrenheit\n",
      "The weather in shelburne is 70.81 degrees fahrenheit\n",
      "The weather in avarua is 78.85 degrees fahrenheit\n",
      "The weather in east london is 52.83 degrees fahrenheit\n",
      "The weather in lindi is 69.69 degrees fahrenheit\n",
      "The weather in bambous virieux is 68.25 degrees fahrenheit\n",
      "The weather in chara is 63.66 degrees fahrenheit\n",
      "The weather in vaini is 80.76 degrees fahrenheit\n",
      "The weather in saint-philippe is 65.03 degrees fahrenheit\n",
      "The weather in thompson is 68.16 degrees fahrenheit\n",
      "The weather in pangnirtung is 47.46 degrees fahrenheit\n",
      "The weather in lompoc is 71.06 degrees fahrenheit\n",
      "The weather in labuhan is 76.86 degrees fahrenheit\n",
      "babanusah not found. Skipping...\n",
      "The weather in sao joao da barra is 67.89 degrees fahrenheit\n",
      "The weather in barcelos is 61.45 degrees fahrenheit\n",
      "The weather in general roca is 52.2 degrees fahrenheit\n",
      "The weather in cherskiy is 54.36 degrees fahrenheit\n",
      "The weather in atuona is 77.45 degrees fahrenheit\n",
      "The weather in albany is 67.17 degrees fahrenheit\n",
      "The weather in wellington is 54.28 degrees fahrenheit\n",
      "The weather in valparaiso is 53.38 degrees fahrenheit\n",
      "The weather in qaanaaq is 41.43 degrees fahrenheit\n",
      "The weather in ust-nera is 62.83 degrees fahrenheit\n",
      "The weather in broome is 68.43 degrees fahrenheit\n",
      "The weather in bredasdorp is 47.52 degrees fahrenheit\n",
      "The weather in ancud is 36.93 degrees fahrenheit\n",
      "The weather in hambantota is 79.59 degrees fahrenheit\n",
      "The weather in georgetown is 81.28 degrees fahrenheit\n",
      "The weather in sembakung is 82.33 degrees fahrenheit\n",
      "The weather in tuktoyaktuk is 59 degrees fahrenheit\n",
      "mys shmidta not found. Skipping...\n",
      "The weather in leshukonskoye is 36.3 degrees fahrenheit\n",
      "The weather in la rioja is 56.98 degrees fahrenheit\n",
      "The weather in castro is 52.25 degrees fahrenheit\n",
      "The weather in chama is 66.74 degrees fahrenheit\n",
      "The weather in hualmay is 63.77 degrees fahrenheit\n",
      "The weather in shubarshi is 71.33 degrees fahrenheit\n",
      "The weather in acajutla is 85.06 degrees fahrenheit\n",
      "The weather in grindavik is 54.37 degrees fahrenheit\n",
      "The weather in keti bandar is 83.12 degrees fahrenheit\n",
      "The weather in port lincoln is 54.14 degrees fahrenheit\n",
      "The weather in upernavik is 39.51 degrees fahrenheit\n",
      "The weather in susa is 76.41 degrees fahrenheit\n",
      "The weather in cozumel is 83.73 degrees fahrenheit\n",
      "The weather in cidreira is 59.67 degrees fahrenheit\n",
      "dzhusaly not found. Skipping...\n",
      "The weather in pandan is 84.87 degrees fahrenheit\n",
      "The weather in leningradskiy is 42.06 degrees fahrenheit\n",
      "The weather in sao filipe is 73.74 degrees fahrenheit\n",
      "The weather in san cristobal is 75.38 degrees fahrenheit\n",
      "The weather in fortuna is 65.57 degrees fahrenheit\n",
      "The weather in puerto ayora is 72.55 degrees fahrenheit\n",
      "The weather in carnarvon is 57.27 degrees fahrenheit\n",
      "The weather in hirara is 84.47 degrees fahrenheit\n",
      "The weather in lebu is 49.42 degrees fahrenheit\n",
      "The weather in donskoye is 64.58 degrees fahrenheit\n",
      "The weather in tasiilaq is 41.16 degrees fahrenheit\n",
      "The weather in alekseyevsk is 65.7 degrees fahrenheit\n",
      "The weather in beloha is 63.32 degrees fahrenheit\n",
      "longlac not found. Skipping...\n",
      "aflu not found. Skipping...\n",
      "The weather in quatre cocos is 68.09 degrees fahrenheit\n",
      "The weather in busselton is 47.05 degrees fahrenheit\n",
      "The weather in khatanga is 55.29 degrees fahrenheit\n",
      "The weather in taltal is 56.61 degrees fahrenheit\n",
      "The weather in neiafu is 81.28 degrees fahrenheit\n",
      "The weather in kaeo is 63.32 degrees fahrenheit\n",
      "The weather in norman wells is 59.04 degrees fahrenheit\n",
      "The weather in maryville is 81.5 degrees fahrenheit\n",
      "The weather in wajima is 84.88 degrees fahrenheit\n",
      "The weather in srivardhan is 80.69 degrees fahrenheit\n",
      "The weather in caluquembe is 50.52 degrees fahrenheit\n",
      "The weather in egvekinot is 50.32 degrees fahrenheit\n",
      "The weather in san patricio is 86.9 degrees fahrenheit\n",
      "abiy adi not found. Skipping...\n",
      "skagastrond not found. Skipping...\n",
      "The weather in mount isa is 69.57 degrees fahrenheit\n",
      "The weather in teshie is 77.56 degrees fahrenheit\n",
      "The weather in port alfred is 52.03 degrees fahrenheit\n",
      "The weather in cleburne is 91.09 degrees fahrenheit\n",
      "The weather in flinders is 56.3 degrees fahrenheit\n",
      "dolbeau not found. Skipping...\n",
      "The weather in lata is 58.32 degrees fahrenheit\n",
      "The weather in alta floresta is 80.46 degrees fahrenheit\n",
      "saryshagan not found. Skipping...\n",
      "The weather in pisco is 62.65 degrees fahrenheit\n",
      "The weather in mawlaik is 77.2 degrees fahrenheit\n",
      "The weather in pombas is 73.18 degrees fahrenheit\n",
      "naftah not found. Skipping...\n",
      "The weather in torbay is 56.37 degrees fahrenheit\n",
      "The weather in port blair is 81.5 degrees fahrenheit\n",
      "The weather in barra patuca is 79.68 degrees fahrenheit\n",
      "The weather in bakchar is 61.41 degrees fahrenheit\n",
      "chagda not found. Skipping...\n",
      "The weather in balabac is 84.6 degrees fahrenheit\n",
      "samusu not found. Skipping...\n",
      "The weather in provideniya is 54.9 degrees fahrenheit\n",
      "The weather in bethel is 70.9 degrees fahrenheit\n",
      "attawapiskat not found. Skipping...\n",
      "tubruq not found. Skipping...\n",
      "The weather in hami is 84.87 degrees fahrenheit\n",
      "karaul not found. Skipping...\n",
      "The weather in puerto escondido is 86.83 degrees fahrenheit\n",
      "The weather in karaman is 60.87 degrees fahrenheit\n",
      "The weather in mormugao is 79.84 degrees fahrenheit\n",
      "The weather in mayo is 75.97 degrees fahrenheit\n",
      "The weather in asfi is 71.29 degrees fahrenheit\n",
      "The weather in longyearbyen is 44.44 degrees fahrenheit\n",
      "The weather in wasilla is 61.95 degrees fahrenheit\n",
      "The weather in alofi is 80.49 degrees fahrenheit\n",
      "tumannyy not found. Skipping...\n",
      "The weather in komsomolskiy is 77.72 degrees fahrenheit\n",
      "The weather in nizhniy kuranakh is 61.63 degrees fahrenheit\n",
      "The weather in sattahip is 84.22 degrees fahrenheit\n",
      "The weather in salinopolis is 77.95 degrees fahrenheit\n",
      "The weather in kavaratti is 82 degrees fahrenheit\n",
      "The weather in tianpeng is 73.87 degrees fahrenheit\n",
      "The weather in changli is 80.33 degrees fahrenheit\n",
      "The weather in temir is 67.82 degrees fahrenheit\n",
      "The weather in isangel is 82.51 degrees fahrenheit\n",
      "The weather in atambua is 76.66 degrees fahrenheit\n",
      "sumbawa not found. Skipping...\n",
      "The weather in bongor is 71.76 degrees fahrenheit\n",
      "The weather in dikson is 45.59 degrees fahrenheit\n",
      "The weather in hithadhoo is 82.18 degrees fahrenheit\n",
      "The weather in aklavik is 65.23 degrees fahrenheit\n",
      "The weather in iqaluit is 50.7 degrees fahrenheit\n",
      "The weather in bobcaygeon is 72.12 degrees fahrenheit\n",
      "yunjinghong not found. Skipping...\n",
      "The weather in kirsanov is 58.8 degrees fahrenheit\n",
      "The weather in touros is 74.3 degrees fahrenheit\n"
     ]
    },
    {
     "name": "stdout",
     "output_type": "stream",
     "text": [
      "The weather in severo-kurilsk is 56.75 degrees fahrenheit\n",
      "The weather in tabora is 68.74 degrees fahrenheit\n",
      "saleaula not found. Skipping...\n",
      "The weather in bengkulu is 75.45 degrees fahrenheit\n",
      "The weather in loanda is 69.8 degrees fahrenheit\n",
      "phan rang not found. Skipping...\n",
      "The weather in veraval is 82.47 degrees fahrenheit\n",
      "The weather in iracoubo is 78.51 degrees fahrenheit\n",
      "The weather in aracuai is 63.18 degrees fahrenheit\n",
      "The weather in gra liyia is 78.98 degrees fahrenheit\n",
      "The weather in codrington is 47.08 degrees fahrenheit\n",
      "The weather in sao domingos is 71.89 degrees fahrenheit\n",
      "The weather in burns lake is 63.82 degrees fahrenheit\n",
      "The weather in pemangkat is 79.57 degrees fahrenheit\n",
      "The weather in nome is 51.87 degrees fahrenheit\n",
      "The weather in cabedelo is 74.07 degrees fahrenheit\n",
      "The weather in yerofey pavlovich is 68.32 degrees fahrenheit\n",
      "The weather in angoram is 81.86 degrees fahrenheit\n",
      "mutsamudu not found. Skipping...\n",
      "sentyabrskiy not found. Skipping...\n",
      "The weather in fairbanks is 74.46 degrees fahrenheit\n",
      "The weather in tilichiki is 57.51 degrees fahrenheit\n",
      "The weather in kaoma is 59.31 degrees fahrenheit\n",
      "The weather in katsuura is 82.74 degrees fahrenheit\n",
      "The weather in butaritari is 83.14 degrees fahrenheit\n",
      "The weather in palmares do sul is 58.96 degrees fahrenheit\n",
      "The weather in clyde river is 37.63 degrees fahrenheit\n",
      "The weather in san rafael is 53.06 degrees fahrenheit\n",
      "The weather in maniitsoq is 41.4 degrees fahrenheit\n",
      "The weather in korla is 83.39 degrees fahrenheit\n",
      "The weather in tazovskiy is 48.27 degrees fahrenheit\n",
      "The weather in padang is 77.58 degrees fahrenheit\n",
      "The weather in okhotsk is 62.42 degrees fahrenheit\n",
      "The weather in rongcheng is 75.33 degrees fahrenheit\n",
      "The weather in vao is 71.37 degrees fahrenheit\n",
      "The weather in barrow is 39.22 degrees fahrenheit\n",
      "The weather in saldanha is 41.05 degrees fahrenheit\n",
      "The weather in sao jose da coroa grande is 74.26 degrees fahrenheit\n",
      "The weather in nikolskoye is 57.07 degrees fahrenheit\n",
      "The weather in yarada is 77.32 degrees fahrenheit\n",
      "The weather in saint-pierre is 65.14 degrees fahrenheit\n",
      "The weather in souillac is 68.38 degrees fahrenheit\n",
      "The weather in port hedland is 68.05 degrees fahrenheit\n",
      "The weather in starosubkhangulovo is 60.03 degrees fahrenheit\n",
      "The weather in andenes is 50 degrees fahrenheit\n",
      "The weather in maceio is 71.04 degrees fahrenheit\n",
      "The weather in tuatapere is 54.82 degrees fahrenheit\n",
      "The weather in latung is 83.97 degrees fahrenheit\n",
      "The weather in aswan is 88.61 degrees fahrenheit\n",
      "The weather in kodiak is 54.91 degrees fahrenheit\n",
      "The weather in pundaguitan is 84.42 degrees fahrenheit\n",
      "The weather in usinsk is 55.27 degrees fahrenheit\n",
      "illoqqortoormiut not found. Skipping...\n",
      "The weather in yulara is 55.24 degrees fahrenheit\n",
      "The weather in kenai is 60.6 degrees fahrenheit\n",
      "The weather in tombouctou is 89.51 degrees fahrenheit\n",
      "marcona not found. Skipping...\n",
      "The weather in the pas is 73.42 degrees fahrenheit\n",
      "The weather in ahipara is 58.84 degrees fahrenheit\n",
      "The weather in camacha is 67.42 degrees fahrenheit\n",
      "The weather in oranjestad is 82.35 degrees fahrenheit\n",
      "The weather in meulaboh is 76.62 degrees fahrenheit\n",
      "barentsburg not found. Skipping...\n",
      "The weather in plettenberg bay is 47.82 degrees fahrenheit\n",
      "The weather in gardanne is 74.61 degrees fahrenheit\n",
      "The weather in jinchang is 80.4 degrees fahrenheit\n",
      "The weather in le vauclin is 80.65 degrees fahrenheit\n",
      "The weather in bisira is 62.37 degrees fahrenheit\n",
      "The weather in tongliao is 83.52 degrees fahrenheit\n",
      "The weather in honiara is 85.64 degrees fahrenheit\n",
      "The weather in bulembu is 34.23 degrees fahrenheit\n",
      "The weather in vung tau is 80.91 degrees fahrenheit\n",
      "The weather in port elizabeth is 46.69 degrees fahrenheit\n",
      "The weather in purranque is 43.93 degrees fahrenheit\n",
      "The weather in owando is 73.49 degrees fahrenheit\n",
      "The weather in amapa is 72.12 degrees fahrenheit\n",
      "The weather in borzya is 67.51 degrees fahrenheit\n",
      "The weather in wagar is 79.12 degrees fahrenheit\n",
      "The weather in sri aman is 78.85 degrees fahrenheit\n",
      "The weather in ponta do sol is 69.3 degrees fahrenheit\n",
      "The weather in fairhope is 82.2 degrees fahrenheit\n",
      "The weather in shumyachi is 56.01 degrees fahrenheit\n",
      "The weather in dudinka is 64.78 degrees fahrenheit\n",
      "The weather in tavda is 59.79 degrees fahrenheit\n",
      "The weather in trairi is 79.43 degrees fahrenheit\n",
      "The weather in aracati is 80.69 degrees fahrenheit\n",
      "The weather in coquimbo is 53.33 degrees fahrenheit\n",
      "ust-kamchatsk not found. Skipping...\n",
      "The weather in great yarmouth is 56.82 degrees fahrenheit\n",
      "The weather in ouargaye is 76.91 degrees fahrenheit\n",
      "The weather in pangkalanbuun is 76.55 degrees fahrenheit\n",
      "The weather in san joaquin is 98.24 degrees fahrenheit\n",
      "vaitupu not found. Skipping...\n",
      "The weather in lagos is 77.32 degrees fahrenheit\n",
      "The weather in ribeira grande is 71.28 degrees fahrenheit\n",
      "The weather in awbari is 80.04 degrees fahrenheit\n",
      "The weather in juneau is 55.31 degrees fahrenheit\n",
      "The weather in los llanos de aridane is 66.13 degrees fahrenheit\n",
      "The weather in luderitz is 64.63 degrees fahrenheit\n",
      "The weather in pathankot is 82.58 degrees fahrenheit\n",
      "The weather in porto velho is 78.85 degrees fahrenheit\n",
      "The weather in chabahar is 84.34 degrees fahrenheit\n",
      "The weather in senno is 47.26 degrees fahrenheit\n",
      "The weather in fare is 77.81 degrees fahrenheit\n",
      "tsihombe not found. Skipping...\n",
      "The weather in visnes is 57.29 degrees fahrenheit\n",
      "The weather in auki is 86.47 degrees fahrenheit\n",
      "The weather in soubre is 70.29 degrees fahrenheit\n",
      "warqla not found. Skipping...\n",
      "The weather in yerbogachen is 69.89 degrees fahrenheit\n",
      "The weather in mahebourg is 68.29 degrees fahrenheit\n",
      "The weather in gusau is 72.19 degrees fahrenheit\n",
      "The weather in ulladulla is 54.97 degrees fahrenheit\n",
      "hvammstangi not found. Skipping...\n",
      "The weather in luganville is 77.65 degrees fahrenheit\n",
      "The weather in kaitangata is 50.94 degrees fahrenheit\n",
      "The weather in cabo san lucas is 91.09 degrees fahrenheit\n",
      "The weather in kandi is 73.09 degrees fahrenheit\n",
      "The weather in cayenne is 82.09 degrees fahrenheit\n",
      "The weather in emerald is 68.14 degrees fahrenheit\n",
      "The weather in tarazona is 66.02 degrees fahrenheit\n",
      "grand river south east not found. Skipping...\n",
      "The weather in buncrana is 64.08 degrees fahrenheit\n",
      "The weather in ambilobe is 63.68 degrees fahrenheit\n",
      "The weather in waingapu is 77.23 degrees fahrenheit\n",
      "The weather in faanui is 78.26 degrees fahrenheit\n",
      "The weather in simpang empat is 80.33 degrees fahrenheit\n",
      "The weather in beringovskiy is 52.57 degrees fahrenheit\n",
      "belushya guba not found. Skipping...\n",
      "The weather in baykit is 71.11 degrees fahrenheit\n",
      "The weather in jalu is 80.62 degrees fahrenheit\n",
      "The weather in guasdualito is 73.87 degrees fahrenheit\n",
      "The weather in maragogi is 73.94 degrees fahrenheit\n",
      "The weather in puri is 81.12 degrees fahrenheit\n",
      "The weather in cape town is 42.69 degrees fahrenheit\n",
      "The weather in vilyuysk is 63.46 degrees fahrenheit\n",
      "The weather in rocha is 58.77 degrees fahrenheit\n",
      "The weather in naze is 79.72 degrees fahrenheit\n",
      "santa eulalia del rio not found. Skipping...\n",
      "The weather in yurimaguas is 76.32 degrees fahrenheit\n",
      "The weather in saint george is 97.72 degrees fahrenheit\n",
      "The weather in vryburg is 30.56 degrees fahrenheit\n",
      "The weather in victoria is 82.87 degrees fahrenheit\n",
      "The weather in skjervoy is 48.49 degrees fahrenheit\n",
      "nizhneyansk not found. Skipping...\n",
      "The weather in homer is 60.94 degrees fahrenheit\n",
      "The weather in russkaya polyana is 63.93 degrees fahrenheit\n",
      "The weather in palauig is 81.84 degrees fahrenheit\n",
      "The weather in kahului is 82.13 degrees fahrenheit\n",
      "The weather in dingle is 81.84 degrees fahrenheit\n",
      "The weather in bilma is 90.3 degrees fahrenheit\n",
      "The weather in college is 74.46 degrees fahrenheit\n",
      "sorvag not found. Skipping...\n",
      "The weather in ozernovskiy is 58.19 degrees fahrenheit\n",
      "The weather in daphne is 82.31 degrees fahrenheit\n",
      "The weather in salalah is 77.09 degrees fahrenheit\n",
      "The weather in pochutla is 88.21 degrees fahrenheit\n",
      "The weather in malbug is 83.84 degrees fahrenheit\n",
      "The weather in gamba is 71.1 degrees fahrenheit\n",
      "The weather in rio grande is 60.33 degrees fahrenheit\n",
      "The weather in bom jesus is 71.55 degrees fahrenheit\n",
      "The weather in talnakh is 63.09 degrees fahrenheit\n",
      "The weather in paka is 75.13 degrees fahrenheit\n"
     ]
    },
    {
     "name": "stdout",
     "output_type": "stream",
     "text": [
      "The weather in mfou is 71.46 degrees fahrenheit\n",
      "The weather in eisiskes is 64.74 degrees fahrenheit\n",
      "The weather in waynesboro is 76.14 degrees fahrenheit\n",
      "The weather in mecca is 87.4 degrees fahrenheit\n",
      "The weather in dubbo is 50.13 degrees fahrenheit\n",
      "The weather in cetraro is 73.24 degrees fahrenheit\n",
      "The weather in sonderso is 55.38 degrees fahrenheit\n",
      "The weather in imbituba is 61.83 degrees fahrenheit\n",
      "The weather in kindersley is 80.62 degrees fahrenheit\n",
      "The weather in waipawa is 51.69 degrees fahrenheit\n",
      "The weather in olga is 85.14 degrees fahrenheit\n",
      "The weather in muros is 64.4 degrees fahrenheit\n",
      "The weather in dimitrovgrad is 61.68 degrees fahrenheit\n",
      "The weather in prince george is 65.64 degrees fahrenheit\n",
      "The weather in fomboni is 77.68 degrees fahrenheit\n",
      "The weather in curup is 67.5 degrees fahrenheit\n",
      "The weather in qandala is 91.02 degrees fahrenheit\n",
      "The weather in omboue is 73.27 degrees fahrenheit\n",
      "The weather in constitucion is 53.13 degrees fahrenheit\n",
      "The weather in mackay is 78.76 degrees fahrenheit\n",
      "The weather in pitimbu is 73.99 degrees fahrenheit\n",
      "The weather in benguela is 67.62 degrees fahrenheit\n",
      "ngukurr not found. Skipping...\n",
      "The weather in ponta delgada is 70.52 degrees fahrenheit\n",
      "The weather in khash is 79.3 degrees fahrenheit\n",
      "bur gabo not found. Skipping...\n",
      "The weather in shamkhal is 75.02 degrees fahrenheit\n",
      "The weather in reforma is 82.96 degrees fahrenheit\n",
      "The weather in jieshi is 86.95 degrees fahrenheit\n",
      "The weather in caravelas is 68.67 degrees fahrenheit\n",
      "The weather in vila velha is 64.35 degrees fahrenheit\n",
      "The weather in south river is 74.91 degrees fahrenheit\n",
      "The weather in soc trang is 80.56 degrees fahrenheit\n",
      "The weather in boyolangu is 75.31 degrees fahrenheit\n",
      "The weather in nemuro is 77.43 degrees fahrenheit\n",
      "The weather in port macquarie is 65.62 degrees fahrenheit\n",
      "The weather in sur is 89.02 degrees fahrenheit\n",
      "The weather in balykshi is 71.6 degrees fahrenheit\n",
      "The weather in vestmannaeyjar is 53.33 degrees fahrenheit\n",
      "The weather in ballina is 67.73 degrees fahrenheit\n",
      "The weather in shingu is 82.9 degrees fahrenheit\n",
      "The weather in nyagan is 50.32 degrees fahrenheit\n",
      "The weather in chipinge is 47.98 degrees fahrenheit\n",
      "The weather in yaan is 70.65 degrees fahrenheit\n",
      "The weather in sibolga is 76.53 degrees fahrenheit\n",
      "The weather in pevek is 39.33 degrees fahrenheit\n",
      "The weather in salvador is 79.2 degrees fahrenheit\n",
      "The weather in cruzeiro is 63.57 degrees fahrenheit\n",
      "The weather in husavik is 60.71 degrees fahrenheit\n",
      "The weather in bloomington is 88.66 degrees fahrenheit\n",
      "The weather in luena is 52.7 degrees fahrenheit\n",
      "The weather in kota kinabalu is 80.58 degrees fahrenheit\n",
      "The weather in wanning is 80.94 degrees fahrenheit\n",
      "The weather in warmbad is 42.31 degrees fahrenheit\n",
      "The weather in mokhotlong is 21.56 degrees fahrenheit\n",
      "The weather in esna is 87.44 degrees fahrenheit\n",
      "The weather in mangit is 76.28 degrees fahrenheit\n",
      "The weather in channel-port aux basques is 54.82 degrees fahrenheit\n",
      "The weather in bafoulabe is 77.43 degrees fahrenheit\n",
      "The weather in russell is 81.84 degrees fahrenheit\n",
      "The weather in koygorodok is 49.08 degrees fahrenheit\n",
      "The weather in svetlogorsk is 60.31 degrees fahrenheit\n",
      "The weather in tura is 75.29 degrees fahrenheit\n",
      "The weather in ojinaga is 97.75 degrees fahrenheit\n",
      "The weather in aykhal is 61 degrees fahrenheit\n",
      "The weather in ola is 54.95 degrees fahrenheit\n",
      "The weather in velikiy ustyug is 44.78 degrees fahrenheit\n",
      "ksenyevka not found. Skipping...\n",
      "The weather in comodoro rivadavia is 48.06 degrees fahrenheit\n",
      "The weather in boyabat is 59 degrees fahrenheit\n",
      "eskasem not found. Skipping...\n",
      "The weather in bahia honda is 82.6 degrees fahrenheit\n",
      "The weather in launceston is 49.59 degrees fahrenheit\n",
      "The weather in duldurga is 64.76 degrees fahrenheit\n",
      "The weather in mogzon is 61.77 degrees fahrenheit\n",
      "The weather in namibe is 64.94 degrees fahrenheit\n",
      "The weather in colares is 64.76 degrees fahrenheit\n",
      "The weather in portland is 84.69 degrees fahrenheit\n",
      "The weather in rawson is 47.82 degrees fahrenheit\n",
      "The weather in verkhnyaya inta is 56.19 degrees fahrenheit\n",
      "The weather in tyazhinskiy is 60.8 degrees fahrenheit\n",
      "The weather in byron bay is 67.84 degrees fahrenheit\n",
      "The weather in avera is 83.01 degrees fahrenheit\n",
      "talesh not found. Skipping...\n",
      "The weather in bathsheba is 81.21 degrees fahrenheit\n",
      "The weather in machali is 56.86 degrees fahrenheit\n",
      "lolua not found. Skipping...\n",
      "The weather in haines junction is 67.95 degrees fahrenheit\n",
      "The weather in nicolas bravo is 80.96 degrees fahrenheit\n",
      "The weather in caohai is 60.58 degrees fahrenheit\n",
      "The weather in zyryanka is 67.86 degrees fahrenheit\n",
      "The weather in kavieng is 84.74 degrees fahrenheit\n",
      "The weather in pamplona is 62.49 degrees fahrenheit\n",
      "The weather in carupano is 78.8 degrees fahrenheit\n",
      "fort saint john not found. Skipping...\n",
      "The weather in estacion coahuila is 103.15 degrees fahrenheit\n",
      "The weather in kamen-rybolov is 83.17 degrees fahrenheit\n",
      "The weather in schonebeck is 59.88 degrees fahrenheit\n",
      "bolungarvik not found. Skipping...\n",
      "The weather in iralaya is 84.29 degrees fahrenheit\n",
      "The weather in talas is 56.07 degrees fahrenheit\n",
      "tidore not found. Skipping...\n",
      "The weather in taybad is 82.49 degrees fahrenheit\n",
      "The weather in louga is 53.87 degrees fahrenheit\n",
      "The weather in kermanshah is 67.1 degrees fahrenheit\n",
      "The weather in roebourne is 70.27 degrees fahrenheit\n",
      "The weather in dhidhdhoo is 82.02 degrees fahrenheit\n",
      "The weather in innoshima is 83.91 degrees fahrenheit\n",
      "The weather in rapid valley is 88.39 degrees fahrenheit\n",
      "The weather in nabire is 75.83 degrees fahrenheit\n",
      "The weather in nalut is 81.9 degrees fahrenheit\n",
      "palabuhanratu not found. Skipping...\n",
      "The weather in dubna is 54.23 degrees fahrenheit\n",
      "The weather in yellandu is 73.13 degrees fahrenheit\n",
      "The weather in durango is 71.2 degrees fahrenheit\n",
      "The weather in tommot is 63.1 degrees fahrenheit\n",
      "The weather in mogadishu is 76.41 degrees fahrenheit\n",
      "The weather in hachinohe is 77.18 degrees fahrenheit\n",
      "The weather in mount gambier is 51.71 degrees fahrenheit\n",
      "The weather in vanavara is 68.54 degrees fahrenheit\n",
      "The weather in manacapuru is 77.58 degrees fahrenheit\n",
      "The weather in daru is 78.91 degrees fahrenheit\n",
      "The weather in charters towers is 71.65 degrees fahrenheit\n",
      "The weather in bilibino is 60.42 degrees fahrenheit\n",
      "The weather in alice springs is 56.75 degrees fahrenheit\n",
      "The weather in semnan is 83.39 degrees fahrenheit\n",
      "The weather in alamos is 88.72 degrees fahrenheit\n",
      "The weather in snasa is 49.82 degrees fahrenheit\n",
      "The weather in severo-yeniseyskiy is 65.28 degrees fahrenheit\n",
      "The weather in esperance is 48.04 degrees fahrenheit\n",
      "The weather in zhangye is 84.49 degrees fahrenheit\n",
      "The weather in isiro is 66.65 degrees fahrenheit\n",
      "The weather in derzhavinsk is 75.51 degrees fahrenheit\n",
      "The weather in altagracia de orituco is 73.17 degrees fahrenheit\n",
      "The weather in hay river is 64.38 degrees fahrenheit\n",
      "The weather in uyovu is 67.96 degrees fahrenheit\n",
      "The weather in mogwase is 40.1 degrees fahrenheit\n",
      "The weather in grand gaube is 68.38 degrees fahrenheit\n",
      "The weather in tual is 79.97 degrees fahrenheit\n",
      "The weather in sokoto is 76.64 degrees fahrenheit\n",
      "The weather in kidal is 87.19 degrees fahrenheit\n",
      "The weather in marfino is 58.71 degrees fahrenheit\n",
      "The weather in tiksi is 45.63 degrees fahrenheit\n",
      "The weather in hogyesz is 66.22 degrees fahrenheit\n",
      "The weather in rivas is 82.36 degrees fahrenheit\n",
      "The weather in hecun is 77.13 degrees fahrenheit\n",
      "amderma not found. Skipping...\n",
      "The weather in tavricheskoye is 66.11 degrees fahrenheit\n",
      "malwan not found. Skipping...\n",
      "The weather in kleinmachnow is 61.75 degrees fahrenheit\n",
      "The weather in kirakira is 85.15 degrees fahrenheit\n",
      "The weather in teluk nibung is 77.45 degrees fahrenheit\n",
      "The weather in martapura is 75.29 degrees fahrenheit\n",
      "The weather in aden is 81.57 degrees fahrenheit\n",
      "The weather in gazojak is 84.79 degrees fahrenheit\n",
      "The weather in marsa matruh is 78.37 degrees fahrenheit\n",
      "The weather in namtsy is 64.51 degrees fahrenheit\n",
      "The weather in zhangjiakou is 72.91 degrees fahrenheit\n",
      "The weather in narsaq is 48.42 degrees fahrenheit\n",
      "toungoo not found. Skipping...\n",
      "The weather in mpanda is 64.27 degrees fahrenheit\n",
      "The weather in govardhan is 87.71 degrees fahrenheit\n"
     ]
    },
    {
     "name": "stdout",
     "output_type": "stream",
     "text": [
      "The weather in digby is 62.64 degrees fahrenheit\n",
      "The weather in landsberg is 62.58 degrees fahrenheit\n",
      "grand centre not found. Skipping...\n",
      "The weather in mersing is 75.11 degrees fahrenheit\n",
      "The weather in banda aceh is 80.96 degrees fahrenheit\n",
      "The weather in lewiston is 61.12 degrees fahrenheit\n",
      "The weather in bonavista is 53.6 degrees fahrenheit\n",
      "The weather in pajapan is 84.36 degrees fahrenheit\n",
      "The weather in saint anthony is 88.47 degrees fahrenheit\n",
      "The weather in severnyy is 60.84 degrees fahrenheit\n",
      "The weather in trelew is 46.94 degrees fahrenheit\n",
      "The weather in quesnel is 64.9 degrees fahrenheit\n",
      "The weather in la crosse is 84.85 degrees fahrenheit\n",
      "The weather in san andres is 82.42 degrees fahrenheit\n",
      "wa not found. Skipping...\n",
      "The weather in mesyagutovo is 57.25 degrees fahrenheit\n",
      "The weather in vangaindrano is 65.97 degrees fahrenheit\n",
      "The weather in vinh is 76.93 degrees fahrenheit\n",
      "The weather in verkhnevilyuysk is 63.54 degrees fahrenheit\n",
      "The weather in kudahuvadhoo is 78.84 degrees fahrenheit\n",
      "The weather in saint-joseph is 64.04 degrees fahrenheit\n",
      "tsienyane not found. Skipping...\n",
      "The weather in fort nelson is 67.59 degrees fahrenheit\n",
      "The weather in balikpapan is 79.79 degrees fahrenheit\n",
      "The weather in klaksvik is 50.92 degrees fahrenheit\n",
      "The weather in berdigestyakh is 60.75 degrees fahrenheit\n",
      "The weather in zhigansk is 70.99 degrees fahrenheit\n",
      "The weather in mount pleasant is 80.69 degrees fahrenheit\n",
      "The weather in hasaki is 85.01 degrees fahrenheit\n",
      "The weather in kota bahru is 76.95 degrees fahrenheit\n",
      "solsvik not found. Skipping...\n",
      "The weather in paamiut is 43.09 degrees fahrenheit\n",
      "The weather in santa ana is 79.7 degrees fahrenheit\n",
      "The weather in parabel is 63.59 degrees fahrenheit\n",
      "The weather in margate is 62.56 degrees fahrenheit\n",
      "The weather in poso is 80.89 degrees fahrenheit\n",
      "ardistan not found. Skipping...\n",
      "uzumlu not found. Skipping...\n",
      "The weather in sinnamary is 79.3 degrees fahrenheit\n",
      "The weather in morondava is 68.25 degrees fahrenheit\n",
      "The weather in trinidad is 75.18 degrees fahrenheit\n",
      "The weather in morrisburg is 70.38 degrees fahrenheit\n",
      "The weather in labrea is 79.63 degrees fahrenheit\n",
      "The weather in bud is 80.51 degrees fahrenheit\n",
      "The weather in kuusamo is 44.64 degrees fahrenheit\n",
      "The weather in yarmouth is 68.81 degrees fahrenheit\n",
      "The weather in hidalgotitlan is 86.02 degrees fahrenheit\n",
      "yomitan not found. Skipping...\n",
      "The weather in dunedin is 53.8 degrees fahrenheit\n",
      "The weather in sioux lookout is 73.47 degrees fahrenheit\n",
      "The weather in suntar is 70.68 degrees fahrenheit\n",
      "The weather in itarema is 79.16 degrees fahrenheit\n",
      "The weather in songea is 61.38 degrees fahrenheit\n",
      "The weather in jaque is 79.29 degrees fahrenheit\n",
      "The weather in mehran is 85.48 degrees fahrenheit\n",
      "The weather in te anau is 47.08 degrees fahrenheit\n",
      "The weather in qujing is 64 degrees fahrenheit\n",
      "kazalinsk not found. Skipping...\n",
      "The weather in pontalina is 67.84 degrees fahrenheit\n",
      "The weather in aguimes is 70.14 degrees fahrenheit\n",
      "The weather in cap-aux-meules is 55.42 degrees fahrenheit\n",
      "The weather in haimen is 84.09 degrees fahrenheit\n",
      "The weather in krasnoselkup is 66.04 degrees fahrenheit\n",
      "The weather in palmeira is 48.61 degrees fahrenheit\n",
      "The weather in lorengau is 83.48 degrees fahrenheit\n",
      "The weather in hede is 83.03 degrees fahrenheit\n",
      "The weather in madruga is 81.55 degrees fahrenheit\n",
      "The weather in beitbridge is 50.59 degrees fahrenheit\n",
      "The weather in saint-martin-de-crau is 77.5 degrees fahrenheit\n",
      "The weather in karwar is 77.99 degrees fahrenheit\n",
      "The weather in nioki is 74.23 degrees fahrenheit\n",
      "The weather in coihaique is 37.35 degrees fahrenheit\n",
      "The weather in mumbwa is 58.17 degrees fahrenheit\n",
      "The weather in acapulco is 84.02 degrees fahrenheit\n",
      "The weather in uthal is 83.44 degrees fahrenheit\n",
      "The weather in buenos aires is 61.3 degrees fahrenheit\n",
      "The weather in yar-sale is 49.48 degrees fahrenheit\n",
      "The weather in mangai is 69.01 degrees fahrenheit\n",
      "The weather in golden is 76.03 degrees fahrenheit\n",
      "The weather in romny is 65.68 degrees fahrenheit\n",
      "The weather in zaysan is 69.98 degrees fahrenheit\n",
      "The weather in xiaoshi is 85.26 degrees fahrenheit\n",
      "The weather in westport is 72.91 degrees fahrenheit\n",
      "The weather in faya is 63.12 degrees fahrenheit\n",
      "The weather in dalvik is 60.73 degrees fahrenheit\n",
      "khonuu not found. Skipping...\n",
      "The weather in nantucket is 67.84 degrees fahrenheit\n",
      "The weather in mareeba is 79.72 degrees fahrenheit\n",
      "The weather in walvis bay is 67.15 degrees fahrenheit\n",
      "The weather in liangxiang is 80.51 degrees fahrenheit\n",
      "The weather in havre-saint-pierre is 57.56 degrees fahrenheit\n",
      "The weather in buchanan is 76.1 degrees fahrenheit\n",
      "The weather in grenaa is 55.53 degrees fahrenheit\n",
      "The weather in hervey bay is 73.51 degrees fahrenheit\n",
      "The weather in acarau is 79.18 degrees fahrenheit\n",
      "The weather in ostrovnoy is 43.93 degrees fahrenheit\n",
      "The weather in beachwood is 72.41 degrees fahrenheit\n",
      "The weather in alugan is 84.61 degrees fahrenheit\n",
      "The weather in chapais is 73.18 degrees fahrenheit\n",
      "aporawan not found. Skipping...\n",
      "The weather in gorin is 87.82 degrees fahrenheit\n",
      "The weather in sicamous is 80.19 degrees fahrenheit\n",
      "san jose chacaya not found. Skipping...\n",
      "The weather in takoradi is 74.39 degrees fahrenheit\n",
      "The weather in gurupa is 77.16 degrees fahrenheit\n",
      "The weather in kungalv is 56.44 degrees fahrenheit\n",
      "The weather in mikhaylovka is 61.9 degrees fahrenheit\n",
      "The weather in goderich is 73.72 degrees fahrenheit\n",
      "The weather in kondinskoye is 59.18 degrees fahrenheit\n",
      "The weather in melilla is 75.58 degrees fahrenheit\n",
      "The weather in matina is 76.01 degrees fahrenheit\n",
      "The weather in tanout is 80.98 degrees fahrenheit\n",
      "The weather in chake chake is 74.75 degrees fahrenheit\n",
      "The weather in kovdor is 43.68 degrees fahrenheit\n",
      "The weather in melo is 60.76 degrees fahrenheit\n",
      "The weather in worland is 91.63 degrees fahrenheit\n",
      "The weather in haguenau is 65.23 degrees fahrenheit\n",
      "The weather in tupancireta is 58.69 degrees fahrenheit\n",
      "The weather in turkmenabat is 80.58 degrees fahrenheit\n",
      "The weather in lichinga is 54.03 degrees fahrenheit\n",
      "The weather in buzmeyin is 83.93 degrees fahrenheit\n"
     ]
    }
   ],
   "source": [
    "# set url for loop and capture data from json for later graphing\n",
    "url = \"http://api.openweathermap.org/data/2.5/weather?\"\n",
    "units = \"imperial\"\n",
    "cities_data = []\n",
    "\n",
    "for city in cities: \n",
    "\n",
    "    # Build query URL\n",
    "    query_url = f\"{url}appid={weather_api_key}&q={city}&units={units}\"\n",
    "\n",
    "    # Get weather data / API response\n",
    "    weather_response = requests.get(query_url)\n",
    "\n",
    "    # try & except block \n",
    "    try: \n",
    "        weather_json = weather_response.json()  \n",
    "        lat = weather_json[\"coord\"][\"lat\"]\n",
    "        lng = weather_json[\"coord\"][\"lon\"]\n",
    "        maximum = weather_json[\"main\"][\"temp_max\"]\n",
    "        humidity = weather_json[\"main\"][\"humidity\"]\n",
    "        cloudiness = weather_json[\"clouds\"][\"all\"]\n",
    "        wind_speed = weather_json[\"wind\"][\"speed\"]\n",
    "        country = weather_json[\"sys\"][\"country\"]\n",
    "        date = weather_json[\"dt\"]\n",
    "        temp = weather_json[\"main\"][\"temp\"]\n",
    "        \n",
    "        # append the dictionary to the list \n",
    "        city_data = {\"City\":city, \"Lat\":lat, \"Lng\": lng, \"Maximum\":maximum, \n",
    "                     \"Humidity\":humidity, \"Cloudiness\":cloudiness, \"Wind Speed\": wind_speed, \n",
    "                     \"Country\":country, \"Date\":date}\n",
    "        \n",
    "        cities_data.append(city_data)\n",
    "         \n",
    "        # print\n",
    "        print(f\"The weather in {city} is {temp} degrees fahrenheit\") \n",
    "        \n",
    "        \n",
    "    except:\n",
    "        print(f\"{city} not found. Skipping...\")"
   ]
  },
  {
   "cell_type": "markdown",
   "metadata": {},
   "source": [
    "### Convert Raw Data to DataFrame\n",
    "* Export the city data into a .csv.\n",
    "* Display the DataFrame"
   ]
  },
  {
   "cell_type": "code",
   "execution_count": 13,
   "metadata": {},
   "outputs": [],
   "source": [
    "cities_df.to_csv = output_data_file"
   ]
  },
  {
   "cell_type": "code",
   "execution_count": 12,
   "metadata": {},
   "outputs": [
    {
     "data": {
      "text/html": [
       "<div>\n",
       "<style scoped>\n",
       "    .dataframe tbody tr th:only-of-type {\n",
       "        vertical-align: middle;\n",
       "    }\n",
       "\n",
       "    .dataframe tbody tr th {\n",
       "        vertical-align: top;\n",
       "    }\n",
       "\n",
       "    .dataframe thead th {\n",
       "        text-align: right;\n",
       "    }\n",
       "</style>\n",
       "<table border=\"1\" class=\"dataframe\">\n",
       "  <thead>\n",
       "    <tr style=\"text-align: right;\">\n",
       "      <th></th>\n",
       "      <th>City</th>\n",
       "      <th>Lat</th>\n",
       "      <th>Lng</th>\n",
       "      <th>Maximum</th>\n",
       "      <th>Humidity</th>\n",
       "      <th>Cloudiness</th>\n",
       "      <th>Wind Speed</th>\n",
       "      <th>Country</th>\n",
       "      <th>Date</th>\n",
       "    </tr>\n",
       "  </thead>\n",
       "  <tbody>\n",
       "    <tr>\n",
       "      <th>0</th>\n",
       "      <td>luanda</td>\n",
       "      <td>-8.8368</td>\n",
       "      <td>13.2343</td>\n",
       "      <td>69.80</td>\n",
       "      <td>88</td>\n",
       "      <td>20</td>\n",
       "      <td>1.14</td>\n",
       "      <td>AO</td>\n",
       "      <td>1627086204</td>\n",
       "    </tr>\n",
       "    <tr>\n",
       "      <th>1</th>\n",
       "      <td>punta arenas</td>\n",
       "      <td>-53.1500</td>\n",
       "      <td>-70.9167</td>\n",
       "      <td>39.31</td>\n",
       "      <td>81</td>\n",
       "      <td>0</td>\n",
       "      <td>24.16</td>\n",
       "      <td>CL</td>\n",
       "      <td>1627086164</td>\n",
       "    </tr>\n",
       "    <tr>\n",
       "      <th>2</th>\n",
       "      <td>rikitea</td>\n",
       "      <td>-23.1203</td>\n",
       "      <td>-134.9692</td>\n",
       "      <td>71.19</td>\n",
       "      <td>59</td>\n",
       "      <td>60</td>\n",
       "      <td>14.05</td>\n",
       "      <td>PF</td>\n",
       "      <td>1627086204</td>\n",
       "    </tr>\n",
       "    <tr>\n",
       "      <th>3</th>\n",
       "      <td>lagoa</td>\n",
       "      <td>39.0500</td>\n",
       "      <td>-27.9833</td>\n",
       "      <td>69.94</td>\n",
       "      <td>96</td>\n",
       "      <td>100</td>\n",
       "      <td>12.21</td>\n",
       "      <td>PT</td>\n",
       "      <td>1627086156</td>\n",
       "    </tr>\n",
       "    <tr>\n",
       "      <th>4</th>\n",
       "      <td>sitka</td>\n",
       "      <td>57.0531</td>\n",
       "      <td>-135.3300</td>\n",
       "      <td>57.09</td>\n",
       "      <td>82</td>\n",
       "      <td>90</td>\n",
       "      <td>13.80</td>\n",
       "      <td>US</td>\n",
       "      <td>1627086205</td>\n",
       "    </tr>\n",
       "  </tbody>\n",
       "</table>\n",
       "</div>"
      ],
      "text/plain": [
       "           City      Lat       Lng  Maximum  Humidity  Cloudiness  Wind Speed  \\\n",
       "0        luanda  -8.8368   13.2343    69.80        88          20        1.14   \n",
       "1  punta arenas -53.1500  -70.9167    39.31        81           0       24.16   \n",
       "2       rikitea -23.1203 -134.9692    71.19        59          60       14.05   \n",
       "3         lagoa  39.0500  -27.9833    69.94        96         100       12.21   \n",
       "4         sitka  57.0531 -135.3300    57.09        82          90       13.80   \n",
       "\n",
       "  Country        Date  \n",
       "0      AO  1627086204  \n",
       "1      CL  1627086164  \n",
       "2      PF  1627086204  \n",
       "3      PT  1627086156  \n",
       "4      US  1627086205  "
      ]
     },
     "execution_count": 12,
     "metadata": {},
     "output_type": "execute_result"
    }
   ],
   "source": [
    "cities_df = pd.DataFrame(cities_data)\n",
    "cities_df.head()"
   ]
  },
  {
   "cell_type": "code",
   "execution_count": 16,
   "metadata": {},
   "outputs": [
    {
     "data": {
      "text/html": [
       "<div>\n",
       "<style scoped>\n",
       "    .dataframe tbody tr th:only-of-type {\n",
       "        vertical-align: middle;\n",
       "    }\n",
       "\n",
       "    .dataframe tbody tr th {\n",
       "        vertical-align: top;\n",
       "    }\n",
       "\n",
       "    .dataframe thead th {\n",
       "        text-align: right;\n",
       "    }\n",
       "</style>\n",
       "<table border=\"1\" class=\"dataframe\">\n",
       "  <thead>\n",
       "    <tr style=\"text-align: right;\">\n",
       "      <th></th>\n",
       "      <th>Lat</th>\n",
       "      <th>Lng</th>\n",
       "      <th>Max Temp</th>\n",
       "      <th>Humidity</th>\n",
       "      <th>Cloudiness</th>\n",
       "      <th>Wind Speed</th>\n",
       "      <th>Date</th>\n",
       "    </tr>\n",
       "  </thead>\n",
       "  <tbody>\n",
       "    <tr>\n",
       "      <td>count</td>\n",
       "      <td>599.000000</td>\n",
       "      <td>599.000000</td>\n",
       "      <td>599.000000</td>\n",
       "      <td>599.000000</td>\n",
       "      <td>599.000000</td>\n",
       "      <td>599.000000</td>\n",
       "      <td>5.990000e+02</td>\n",
       "    </tr>\n",
       "    <tr>\n",
       "      <td>mean</td>\n",
       "      <td>19.877028</td>\n",
       "      <td>19.568998</td>\n",
       "      <td>69.794808</td>\n",
       "      <td>69.353923</td>\n",
       "      <td>51.569282</td>\n",
       "      <td>7.979416</td>\n",
       "      <td>1.593605e+09</td>\n",
       "    </tr>\n",
       "    <tr>\n",
       "      <td>std</td>\n",
       "      <td>33.262944</td>\n",
       "      <td>91.418472</td>\n",
       "      <td>15.678452</td>\n",
       "      <td>22.704698</td>\n",
       "      <td>35.405602</td>\n",
       "      <td>5.660694</td>\n",
       "      <td>5.738815e+01</td>\n",
       "    </tr>\n",
       "    <tr>\n",
       "      <td>min</td>\n",
       "      <td>-54.800000</td>\n",
       "      <td>-179.170000</td>\n",
       "      <td>12.200000</td>\n",
       "      <td>7.000000</td>\n",
       "      <td>0.000000</td>\n",
       "      <td>0.360000</td>\n",
       "      <td>1.593605e+09</td>\n",
       "    </tr>\n",
       "    <tr>\n",
       "      <td>25%</td>\n",
       "      <td>-8.540000</td>\n",
       "      <td>-61.210000</td>\n",
       "      <td>59.000000</td>\n",
       "      <td>55.000000</td>\n",
       "      <td>20.000000</td>\n",
       "      <td>3.620000</td>\n",
       "      <td>1.593605e+09</td>\n",
       "    </tr>\n",
       "    <tr>\n",
       "      <td>50%</td>\n",
       "      <td>24.370000</td>\n",
       "      <td>24.670000</td>\n",
       "      <td>73.110000</td>\n",
       "      <td>75.000000</td>\n",
       "      <td>59.000000</td>\n",
       "      <td>6.730000</td>\n",
       "      <td>1.593605e+09</td>\n",
       "    </tr>\n",
       "    <tr>\n",
       "      <td>75%</td>\n",
       "      <td>46.585000</td>\n",
       "      <td>102.255000</td>\n",
       "      <td>80.600000</td>\n",
       "      <td>87.000000</td>\n",
       "      <td>85.000000</td>\n",
       "      <td>11.050000</td>\n",
       "      <td>1.593605e+09</td>\n",
       "    </tr>\n",
       "    <tr>\n",
       "      <td>max</td>\n",
       "      <td>78.220000</td>\n",
       "      <td>179.320000</td>\n",
       "      <td>116.600000</td>\n",
       "      <td>100.000000</td>\n",
       "      <td>100.000000</td>\n",
       "      <td>42.500000</td>\n",
       "      <td>1.593605e+09</td>\n",
       "    </tr>\n",
       "  </tbody>\n",
       "</table>\n",
       "</div>"
      ],
      "text/plain": [
       "              Lat         Lng    Max Temp    Humidity  Cloudiness  Wind Speed  \\\n",
       "count  599.000000  599.000000  599.000000  599.000000  599.000000  599.000000   \n",
       "mean    19.877028   19.568998   69.794808   69.353923   51.569282    7.979416   \n",
       "std     33.262944   91.418472   15.678452   22.704698   35.405602    5.660694   \n",
       "min    -54.800000 -179.170000   12.200000    7.000000    0.000000    0.360000   \n",
       "25%     -8.540000  -61.210000   59.000000   55.000000   20.000000    3.620000   \n",
       "50%     24.370000   24.670000   73.110000   75.000000   59.000000    6.730000   \n",
       "75%     46.585000  102.255000   80.600000   87.000000   85.000000   11.050000   \n",
       "max     78.220000  179.320000  116.600000  100.000000  100.000000   42.500000   \n",
       "\n",
       "               Date  \n",
       "count  5.990000e+02  \n",
       "mean   1.593605e+09  \n",
       "std    5.738815e+01  \n",
       "min    1.593605e+09  \n",
       "25%    1.593605e+09  \n",
       "50%    1.593605e+09  \n",
       "75%    1.593605e+09  \n",
       "max    1.593605e+09  "
      ]
     },
     "execution_count": 16,
     "metadata": {},
     "output_type": "execute_result"
    }
   ],
   "source": [
    "cities_df.describe()"
   ]
  },
  {
   "cell_type": "code",
   "execution_count": 10,
   "metadata": {},
   "outputs": [
    {
     "data": {
      "text/html": [
       "<div>\n",
       "<style scoped>\n",
       "    .dataframe tbody tr th:only-of-type {\n",
       "        vertical-align: middle;\n",
       "    }\n",
       "\n",
       "    .dataframe tbody tr th {\n",
       "        vertical-align: top;\n",
       "    }\n",
       "\n",
       "    .dataframe thead th {\n",
       "        text-align: right;\n",
       "    }\n",
       "</style>\n",
       "<table border=\"1\" class=\"dataframe\">\n",
       "  <thead>\n",
       "    <tr style=\"text-align: right;\">\n",
       "      <th></th>\n",
       "      <th>City</th>\n",
       "      <th>Lat</th>\n",
       "      <th>Lng</th>\n",
       "      <th>Maximum</th>\n",
       "      <th>Humidity</th>\n",
       "      <th>Cloudiness</th>\n",
       "      <th>Wind Speed</th>\n",
       "      <th>Country</th>\n",
       "      <th>Date</th>\n",
       "    </tr>\n",
       "  </thead>\n",
       "  <tbody>\n",
       "  </tbody>\n",
       "</table>\n",
       "</div>"
      ],
      "text/plain": [
       "Empty DataFrame\n",
       "Columns: [City, Lat, Lng, Maximum, Humidity, Cloudiness, Wind Speed, Country, Date]\n",
       "Index: []"
      ]
     },
     "execution_count": 10,
     "metadata": {},
     "output_type": "execute_result"
    }
   ],
   "source": [
    "cities_df.loc[cities_df[\"Humidity\"] > 100, :]"
   ]
  },
  {
   "cell_type": "markdown",
   "metadata": {},
   "source": [
    "## Inspect the data and remove the cities where the humidity > 100%.\n",
    "----\n",
    "Skip this step if there are no cities that have humidity > 100%. "
   ]
  },
  {
   "cell_type": "code",
   "execution_count": 14,
   "metadata": {},
   "outputs": [],
   "source": [
    "# skipping step "
   ]
  },
  {
   "cell_type": "code",
   "execution_count": 15,
   "metadata": {},
   "outputs": [],
   "source": [
    "# skipping step "
   ]
  },
  {
   "cell_type": "code",
   "execution_count": 16,
   "metadata": {},
   "outputs": [],
   "source": [
    "# skipping step "
   ]
  },
  {
   "cell_type": "markdown",
   "metadata": {},
   "source": [
    "## Plotting the Data\n",
    "* Use proper labeling of the plots using plot titles (including date of analysis) and axes labels.\n",
    "* Save the plotted figures as .pngs."
   ]
  },
  {
   "cell_type": "markdown",
   "metadata": {},
   "source": [
    "## Latitude vs. Temperature Plot"
   ]
  },
  {
   "cell_type": "code",
   "execution_count": 23,
   "metadata": {},
   "outputs": [
    {
     "data": {
      "image/png": "[encoded data removed]",
      "text/plain": [
       "<Figure size 432x288 with 1 Axes>"
      ]
     },
     "metadata": {
      "needs_background": "light"
     },
     "output_type": "display_data"
    }
   ],
   "source": [
    "# scatter plot / Latitude vs. Temperature\n",
    "cities_df.plot(x=\"Lat\", y=\"Maximum\", kind=\"scatter\", title=\"City Latitude vs. Max Temperature (04/01/20)\", grid=True)\n",
    "plt.savefig(\"../output_data/Fig1.png\")\n",
    "plt.show()"
   ]
  },
  {
   "cell_type": "markdown",
   "metadata": {},
   "source": [
    "## Latitude vs. Humidity Plot"
   ]
  },
  {
   "cell_type": "code",
   "execution_count": 24,
   "metadata": {},
   "outputs": [
    {
     "data": {
      "image/png": "[encoded data removed]",
      "text/plain": [
       "<Figure size 432x288 with 1 Axes>"
      ]
     },
     "metadata": {
      "needs_background": "light"
     },
     "output_type": "display_data"
    }
   ],
   "source": [
    "# scatter plot / Latitude vs. Humidity\n",
    "cities_df.plot(x=\"Lat\", y=\"Humidity\", kind=\"scatter\", title=\"City Latitude vs. Humidity (04/01/20)\", grid=True)\n",
    "plt.savefig(\"../output_data/Fig2.png\")\n",
    "plt.show()"
   ]
  },
  {
   "cell_type": "markdown",
   "metadata": {},
   "source": [
    "## Latitude vs. Cloudiness Plot"
   ]
  },
  {
   "cell_type": "code",
   "execution_count": 25,
   "metadata": {},
   "outputs": [
    {
     "data": {
      "image/png": "[encoded data removed]",
      "text/plain": [
       "<Figure size 432x288 with 1 Axes>"
      ]
     },
     "metadata": {
      "needs_background": "light"
     },
     "output_type": "display_data"
    }
   ],
   "source": [
    "# scatter plot / Latitude vs. Cloudiness\n",
    "cities_df.plot(x=\"Lat\", y=\"Cloudiness\", kind=\"scatter\", title=\"City Latitude vs. Cloudiness (04/01/20)\", grid=True)\n",
    "plt.savefig(\"../output_data/Fig3.png\")\n",
    "plt.show()"
   ]
  },
  {
   "cell_type": "markdown",
   "metadata": {},
   "source": [
    "## Latitude vs. Wind Speed Plot"
   ]
  },
  {
   "cell_type": "code",
   "execution_count": 26,
   "metadata": {},
   "outputs": [
    {
     "data": {
      "image/png": "[encoded data removed]",
      "text/plain": [
       "<Figure size 432x288 with 1 Axes>"
      ]
     },
     "metadata": {
      "needs_background": "light"
     },
     "output_type": "display_data"
    }
   ],
   "source": [
    "# scatter plot / Latitude vs. Wind Speed PLot\n",
    "cities_df.plot(x=\"Lat\", y=\"Wind Speed\", kind=\"scatter\", title=\"City Latitude vs. \"Wind Speed\" (04/01/20)\", grid=True)\n",
    "plt.savefig(\"../output_data/Fig4.png\")\n",
    "plt.show()"
   ]
  },
  {
   "cell_type": "code",
   "execution_count": 28,
   "metadata": {},
   "outputs": [],
   "source": [
    "# Southern and Northern DF \n",
    "southern_df = cities_df.loc[pd.to_numeric(cities_df[\"Lat\"]).astype(float) < 0, :]\n",
    "northern_df = cities_df.loc[pd.to_numeric(cities_df[\"Lat\"]).astype(float) > 0, :]"
   ]
  },
  {
   "cell_type": "markdown",
   "metadata": {},
   "source": [
    "## Linear Regression"
   ]
  },
  {
   "cell_type": "markdown",
   "metadata": {},
   "source": [
    "####  Northern Hemisphere - Max Temp vs. Latitude Linear Regression"
   ]
  },
  {
   "cell_type": "code",
   "execution_count": 46,
   "metadata": {},
   "outputs": [
    {
     "name": "stdout",
     "output_type": "stream",
     "text": [
      "The rvalue is -0.6831845912504521.\n"
     ]
    },
    {
     "data": {
      "image/png": "[encoded data removed]",
      "text/plain": [
       "<Figure size 432x288 with 1 Axes>"
      ]
     },
     "metadata": {
      "needs_background": "light"
     },
     "output_type": "display_data"
    }
   ],
   "source": [
    "x_values = northern_df[\"Lat\"]\n",
    "y_values = northern_df[\"Maximum\"]\n",
    "\n",
    "(slope, intercept, rvalue, pvalue, stderr) = linregress(x_values, y_values)\n",
    "regress_values = x_values * slope + intercept\n",
    "line_eq = \"y = \" + str(round(slope, 2)) + \"x + \" + str(round(intercept, 2))\n",
    "plt.title(f'{line_eq}',color = 'r', fontsize = 14)\n",
    "plt.plot(x_values, regress_values, \"r-\")\n",
    "plt.scatter(x_values, y_values)\n",
    "plt.xlabel(\"Latitude\")\n",
    "plt.ylabel(\"Max Temp\")\n",
    "                                                        \n",
    "                                                        \n",
    "plt.savefig(\"../output_data/Fig5.png\")\n",
    "\n",
    "\n",
    "print(f\"The rvalue is {rvalue}.\")\n",
    "\n",
    "plt.show()"
   ]
  },
  {
   "cell_type": "markdown",
   "metadata": {},
   "source": [
    "####  Southern Hemisphere - Max Temp vs. Latitude Linear Regression"
   ]
  },
  {
   "cell_type": "code",
   "execution_count": 53,
   "metadata": {},
   "outputs": [
    {
     "name": "stdout",
     "output_type": "stream",
     "text": [
      "The rvalue is 0.7652924008461188.\n"
     ]
    },
    {
     "data": {
      "image/png": "[encoded data removed]",
      "text/plain": [
       "<Figure size 432x288 with 1 Axes>"
      ]
     },
     "metadata": {
      "needs_background": "light"
     },
     "output_type": "display_data"
    }
   ],
   "source": [
    "x_values = southern_df[\"Lat\"]\n",
    "y_values = southern_df[\"Maximum\"]\n",
    "(slope, intercept, rvalue, pvalue, stderr) = linregress(x_values, y_values)\n",
    "regress_values = x_values * slope + intercept\n",
    "line_eq = \"y = \" + str(round(slope,2)) + \"x + \" + str(round(intercept,2))\n",
    "plt.scatter(x_values,y_values)\n",
    "plt.plot(x_values,regress_values,\"r-\")\n",
    "plt.title(f'{line_eq}',color = 'r', fontsize = 14)\n",
    "plt.xlabel(\"Latitude\")\n",
    "plt.ylabel(\"Max Temp\")\n",
    "\n",
    "plt.savefig(\"../output_data/Fig6.png\")\n",
    "\n",
    "print(f\"The rvalue is {rvalue}.\")\n",
    "\n",
    "plt.show()"
   ]
  },
  {
   "cell_type": "markdown",
   "metadata": {},
   "source": [
    "####  Northern Hemisphere - Humidity (%) vs. Latitude Linear Regression"
   ]
  },
  {
   "cell_type": "code",
   "execution_count": 54,
   "metadata": {},
   "outputs": [
    {
     "name": "stdout",
     "output_type": "stream",
     "text": [
      "The rvalue is -0.07427153416236985.\n"
     ]
    },
    {
     "data": {
      "image/png": "[encoded data removed]",
      "text/plain": [
       "<Figure size 432x288 with 1 Axes>"
      ]
     },
     "metadata": {
      "needs_background": "light"
     },
     "output_type": "display_data"
    }
   ],
   "source": [
    "x_values = northern_df[\"Lat\"]\n",
    "y_values = northern_df[\"Humidity\"]\n",
    "(slope, intercept, rvalue, pvalue, stderr) = linregress(x_values, y_values)\n",
    "regress_values = x_values * slope + intercept\n",
    "line_eq = \"y = \" + str(round(slope,2)) + \"x + \" + str(round(intercept,2))\n",
    "plt.scatter(x_values,y_values)\n",
    "plt.plot(x_values,regress_values,\"r-\")\n",
    "plt.title(f'{line_eq}',color = 'r', fontsize = 14)\n",
    "plt.xlabel(\"Latitude\")\n",
    "plt.ylabel(\"Humidity\")\n",
    "\n",
    "plt.savefig(\"../output_data/Fig7.png\")\n",
    "\n",
    "print(f\"The rvalue is {rvalue}.\")\n",
    "\n",
    "plt.show()"
   ]
  },
  {
   "cell_type": "markdown",
   "metadata": {},
   "source": [
    "####  Southern Hemisphere - Humidity (%) vs. Latitude Linear Regression"
   ]
  },
  {
   "cell_type": "code",
   "execution_count": 55,
   "metadata": {},
   "outputs": [
    {
     "name": "stdout",
     "output_type": "stream",
     "text": [
      "The rvalue is 0.06153555415556955.\n"
     ]
    },
    {
     "data": {
      "image/png": "[encoded data removed]",
      "text/plain": [
       "<Figure size 432x288 with 1 Axes>"
      ]
     },
     "metadata": {
      "needs_background": "light"
     },
     "output_type": "display_data"
    }
   ],
   "source": [
    "x_values = southern_df[\"Lat\"]\n",
    "y_values = southern_df[\"Humidity\"]\n",
    "(slope, intercept, rvalue, pvalue, stderr) = linregress(x_values, y_values)\n",
    "regress_values = x_values * slope + intercept\n",
    "line_eq = \"y = \" + str(round(slope,2)) + \"x + \" + str(round(intercept,2))\n",
    "plt.scatter(x_values,y_values)\n",
    "plt.plot(x_values,regress_values,\"r-\")\n",
    "plt.title(f'{line_eq}',color = 'r', fontsize = 14)\n",
    "plt.xlabel(\"Latitude\")\n",
    "plt.ylabel(\"Humidity\")\n",
    "\n",
    "plt.savefig(\"../output_data/Fig8.png\")\n",
    "\n",
    "print(f\"The rvalue is {rvalue}.\")\n",
    "\n",
    "plt.show()"
   ]
  },
  {
   "cell_type": "markdown",
   "metadata": {},
   "source": [
    "####  Northern Hemisphere - Cloudiness (%) vs. Latitude Linear Regression"
   ]
  },
  {
   "cell_type": "code",
   "execution_count": 56,
   "metadata": {},
   "outputs": [
    {
     "name": "stdout",
     "output_type": "stream",
     "text": [
      "The rvalue is 0.001874425654409427.\n"
     ]
    },
    {
     "data": {
      "image/png": "[encoded data removed]",
      "text/plain": [
       "<Figure size 432x288 with 1 Axes>"
      ]
     },
     "metadata": {
      "needs_background": "light"
     },
     "output_type": "display_data"
    }
   ],
   "source": [
    "x_values = northern_df[\"Lat\"]\n",
    "y_values = northern_df[\"Cloudiness\"]\n",
    "(slope, intercept, rvalue, pvalue, stderr) = linregress(x_values, y_values)\n",
    "regress_values = x_values * slope + intercept\n",
    "line_eq = \"y = \" + str(round(slope,2)) + \"x + \" + str(round(intercept,2))\n",
    "plt.scatter(x_values,y_values)\n",
    "plt.plot(x_values,regress_values,\"r-\")\n",
    "plt.title(f'{line_eq}',color = 'r', fontsize = 14)\n",
    "plt.xlabel(\"Latitude\")\n",
    "plt.ylabel(\"Cloudiness\")\n",
    "\n",
    "plt.savefig(\"../output_data/Fig9.png\")\n",
    "\n",
    "print(f\"The rvalue is {rvalue}.\")\n",
    "\n",
    "plt.show()"
   ]
  },
  {
   "cell_type": "markdown",
   "metadata": {},
   "source": [
    "####  Southern Hemisphere - Cloudiness (%) vs. Latitude Linear Regression"
   ]
  },
  {
   "cell_type": "code",
   "execution_count": 57,
   "metadata": {},
   "outputs": [
    {
     "name": "stdout",
     "output_type": "stream",
     "text": [
      "The rvalue is 0.08819199869261206.\n"
     ]
    },
    {
     "data": {
      "image/png": "[encoded data removed]",
      "text/plain": [
       "<Figure size 432x288 with 1 Axes>"
      ]
     },
     "metadata": {
      "needs_background": "light"
     },
     "output_type": "display_data"
    }
   ],
   "source": [
    "x_values = southern_df[\"Lat\"]\n",
    "y_values = southern_df[\"Cloudiness\"]\n",
    "(slope, intercept, rvalue, pvalue, stderr) = linregress(x_values, y_values)\n",
    "regress_values = x_values * slope + intercept\n",
    "line_eq = \"y = \" + str(round(slope,2)) + \"x + \" + str(round(intercept,2))\n",
    "plt.scatter(x_values,y_values)\n",
    "plt.plot(x_values,regress_values,\"r-\")\n",
    "plt.title(f'{line_eq}',color = 'r', fontsize = 14)\n",
    "plt.xlabel(\"Latitude\")\n",
    "plt.ylabel(\"Cloudiness\")\n",
    "\n",
    "plt.savefig(\"../output_data/Fig10.png\")\n",
    "\n",
    "print(f\"The rvalue is {rvalue}.\")\n",
    "\n",
    "plt.show()"
   ]
  },
  {
   "cell_type": "markdown",
   "metadata": {},
   "source": [
    "####  Northern Hemisphere - Wind Speed (mph) vs. Latitude Linear Regression"
   ]
  },
  {
   "cell_type": "code",
   "execution_count": 58,
   "metadata": {},
   "outputs": [
    {
     "name": "stdout",
     "output_type": "stream",
     "text": [
      "The rvalue is -0.03735517999734665.\n"
     ]
    },
    {
     "data": {
      "image/png": "[encoded data removed]",
      "text/plain": [
       "<Figure size 432x288 with 1 Axes>"
      ]
     },
     "metadata": {
      "needs_background": "light"
     },
     "output_type": "display_data"
    }
   ],
   "source": [
    "x_values = northern_df[\"Lat\"]\n",
    "y_values = northern_df[\"Wind Speed\"]\n",
    "(slope, intercept, rvalue, pvalue, stderr) = linregress(x_values, y_values)\n",
    "regress_values = x_values * slope + intercept\n",
    "line_eq = \"y = \" + str(round(slope,2)) + \"x + \" + str(round(intercept,2))\n",
    "plt.scatter(x_values,y_values)\n",
    "plt.plot(x_values,regress_values,\"r-\")\n",
    "plt.title(f'{line_eq}',color = 'r', fontsize = 14)\n",
    "plt.xlabel(\"Latitude\")\n",
    "plt.ylabel(\"Wind Speed\")\n",
    "\n",
    "plt.savefig(\"../output_data/Fig11.png\")\n",
    "\n",
    "print(f\"The rvalue is {rvalue}.\")\n",
    "\n",
    "plt.show()"
   ]
  },
  {
   "cell_type": "markdown",
   "metadata": {},
   "source": [
    "####  Southern Hemisphere - Wind Speed (mph) vs. Latitude Linear Regression"
   ]
  },
  {
   "cell_type": "code",
   "execution_count": 59,
   "metadata": {},
   "outputs": [
    {
     "name": "stdout",
     "output_type": "stream",
     "text": [
      "The rvalue is -0.0938967484459675.\n"
     ]
    },
    {
     "data": {
      "image/png": "[encoded data removed]",
      "text/plain": [
       "<Figure size 432x288 with 1 Axes>"
      ]
     },
     "metadata": {
      "needs_background": "light"
     },
     "output_type": "display_data"
    }
   ],
   "source": [
    "x_values = southern_df[\"Lat\"]\n",
    "y_values = southern_df[\"Wind Speed\"]\n",
    "(slope, intercept, rvalue, pvalue, stderr) = linregress(x_values, y_values)\n",
    "regress_values = x_values * slope + intercept\n",
    "line_eq = \"y = \" + str(round(slope,2)) + \"x + \" + str(round(intercept,2))\n",
    "plt.scatter(x_values,y_values)\n",
    "plt.plot(x_values,regress_values,\"r-\")\n",
    "plt.title(f'{line_eq}',color = 'r', fontsize = 14)\n",
    "plt.xlabel(\"Latitude\")\n",
    "plt.ylabel(\"Wind Speed\")\n",
    "\n",
    "plt.savefig(\"../output_data/Fig12.png\")\n",
    "\n",
    "print(f\"The rvalue is {rvalue}.\")\n",
    "\n",
    "plt.show()"
   ]
  }
 ],
 "metadata": {
  "anaconda-cloud": {},
  "kernel_info": {
   "name": "python3"
  },
  "kernelspec": {
   "display_name": "Python 3",
   "language": "python",
   "name": "python3"
  },
  "language_info": {
   "codemirror_mode": {
    "name": "ipython",
    "version": 3
   },
   "file_extension": ".py",
   "mimetype": "text/x-python",
   "name": "python",
   "nbconvert_exporter": "python",
   "pygments_lexer": "ipython3",
   "version": "3.8.8"
  },
  "latex_envs": {
   "LaTeX_envs_menu_present": true,
   "autoclose": false,
   "autocomplete": true,
   "bibliofile": "biblio.bib",
   "cite_by": "apalike",
   "current_citInitial": 1,
   "eqLabelWithNumbers": true,
   "eqNumInitial": 1,
   "hotkeys": {
    "equation": "Ctrl-E",
    "itemize": "Ctrl-I"
   },
   "labels_anchors": false,
   "latex_user_defs": false,
   "report_style_numbering": false,
   "user_envs_cfg": false
  },
  "nteract": {
   "version": "0.12.3"
  }
 },
 "nbformat": 4,
 "nbformat_minor": 2
}
